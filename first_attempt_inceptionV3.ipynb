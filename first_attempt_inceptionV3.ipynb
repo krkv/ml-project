{
 "cells": [
  {
   "cell_type": "markdown",
   "metadata": {},
   "source": [
    "## Loading data"
   ]
  },
  {
   "cell_type": "code",
   "execution_count": 1,
   "metadata": {},
   "outputs": [],
   "source": [
    "import numpy as np\n",
    "import matplotlib.pyplot as plt\n",
    "import pandas as pd"
   ]
  },
  {
   "cell_type": "code",
   "execution_count": 2,
   "metadata": {},
   "outputs": [],
   "source": [
    "train_df = pd.read_csv(\"train.csv\")"
   ]
  },
  {
   "cell_type": "code",
   "execution_count": 3,
   "metadata": {},
   "outputs": [],
   "source": [
    "def append_ext(filename):\n",
    "    return filename + \".png\""
   ]
  },
  {
   "cell_type": "code",
   "execution_count": 4,
   "metadata": {},
   "outputs": [],
   "source": [
    "train_df[\"image_name\"] = train_df[\"image_name\"].apply(append_ext)"
   ]
  },
  {
   "cell_type": "code",
   "execution_count": 5,
   "metadata": {},
   "outputs": [],
   "source": [
    "df_benign = train_df[train_df['target'] == 0].sample(1200, \n",
    "                                             random_state = 111)"
   ]
  },
  {
   "cell_type": "code",
   "execution_count": 6,
   "metadata": {},
   "outputs": [],
   "source": [
    "df_malignant = train_df[train_df['target'] == 1]"
   ]
  },
  {
   "cell_type": "code",
   "execution_count": 7,
   "metadata": {},
   "outputs": [],
   "source": [
    "train_balanced = pd.concat([df_benign, df_malignant])"
   ]
  },
  {
   "cell_type": "code",
   "execution_count": 9,
   "metadata": {},
   "outputs": [],
   "source": [
    "from  sklearn.model_selection import train_test_split"
   ]
  },
  {
   "cell_type": "code",
   "execution_count": 10,
   "metadata": {},
   "outputs": [],
   "source": [
    "X_train, X_val, y_train, y_val = train_test_split(train_balanced['image_name'],\n",
    "                                                 train_balanced['target'],\n",
    "                                                 test_size = 0.2,\n",
    "                                                 random_state = 111)"
   ]
  },
  {
   "cell_type": "code",
   "execution_count": 11,
   "metadata": {},
   "outputs": [],
   "source": [
    "train = pd.DataFrame({'image_name': X_train, 'target': y_train})"
   ]
  },
  {
   "cell_type": "code",
   "execution_count": 12,
   "metadata": {},
   "outputs": [],
   "source": [
    "val = pd.DataFrame({'image_name': X_val, 'target': y_val})"
   ]
  },
  {
   "cell_type": "code",
   "execution_count": 14,
   "metadata": {},
   "outputs": [],
   "source": [
    "from tensorflow.keras.preprocessing.image import ImageDataGenerator"
   ]
  },
  {
   "cell_type": "code",
   "execution_count": 15,
   "metadata": {},
   "outputs": [
    {
     "name": "stdout",
     "output_type": "stream",
     "text": [
      "Found 1427 validated image filenames.\n",
      "Found 357 validated image filenames.\n"
     ]
    }
   ],
   "source": [
    "train_datagen = ImageDataGenerator(rotation_range=20,\n",
    "                                   width_shift_range=0.2,\n",
    "                                   height_shift_range=0.2,\n",
    "                                   horizontal_flip=True)\n",
    "val_datagen = ImageDataGenerator()\n",
    "\n",
    "train_generator = train_datagen.flow_from_dataframe(\n",
    "    dataframe = train,\n",
    "    directory = r'D:\\uni\\masters\\ML\\project\\my_code\\archive\\train',\n",
    "    x_col = 'image_name',\n",
    "    y_col = 'target',\n",
    "    batch_size = 32,\n",
    "    target_size=(224, 224),\n",
    "    shuffle = True,\n",
    "    class_mode = 'raw',\n",
    "    seed = 111\n",
    ")\n",
    "\n",
    "val_generator = val_datagen.flow_from_dataframe(\n",
    "    dataframe = val,\n",
    "    directory = r'D:\\uni\\masters\\ML\\project\\my_code\\archive\\train',\n",
    "    x_col = 'image_name',\n",
    "    y_col = 'target',\n",
    "    batch_size = 32,\n",
    "    target_size=(224, 224),\n",
    "    shuffle = True,\n",
    "    class_mode = 'raw',\n",
    "    seed = 111\n",
    ")"
   ]
  },
  {
   "cell_type": "markdown",
   "metadata": {},
   "source": [
    "## Checking GPU"
   ]
  },
  {
   "cell_type": "code",
   "execution_count": 16,
   "metadata": {},
   "outputs": [
    {
     "name": "stdout",
     "output_type": "stream",
     "text": [
      "[name: \"/device:CPU:0\"\n",
      "device_type: \"CPU\"\n",
      "memory_limit: 268435456\n",
      "locality {\n",
      "}\n",
      "incarnation: 14651608643082029534\n",
      ", name: \"/device:GPU:0\"\n",
      "device_type: \"GPU\"\n",
      "memory_limit: 3061265204\n",
      "locality {\n",
      "  bus_id: 1\n",
      "  links {\n",
      "  }\n",
      "}\n",
      "incarnation: 2185059894611850125\n",
      "physical_device_desc: \"device: 0, name: GeForce GTX 1650, pci bus id: 0000:01:00.0, compute capability: 7.5\"\n",
      "]\n"
     ]
    }
   ],
   "source": [
    "from tensorflow.python.client import device_lib\n",
    "print(device_lib.list_local_devices())"
   ]
  },
  {
   "cell_type": "code",
   "execution_count": 17,
   "metadata": {},
   "outputs": [
    {
     "name": "stderr",
     "output_type": "stream",
     "text": [
      "Using TensorFlow backend.\n"
     ]
    }
   ],
   "source": [
    "import tensorflow as tf\n",
    "from tensorflow.keras.models import Model\n",
    "from tensorflow.keras.layers import Input, GlobalAveragePooling2D, Dense\n",
    "import keras"
   ]
  },
  {
   "cell_type": "code",
   "execution_count": 18,
   "metadata": {},
   "outputs": [
    {
     "data": {
      "text/plain": [
       "'/device:GPU:0'"
      ]
     },
     "execution_count": 18,
     "metadata": {},
     "output_type": "execute_result"
    }
   ],
   "source": [
    "tf.test.gpu_device_name()"
   ]
  },
  {
   "cell_type": "markdown",
   "metadata": {},
   "source": [
    "## Loading InceptionV3"
   ]
  },
  {
   "cell_type": "code",
   "execution_count": 19,
   "metadata": {},
   "outputs": [],
   "source": [
    "import PIL"
   ]
  },
  {
   "cell_type": "code",
   "execution_count": 20,
   "metadata": {},
   "outputs": [],
   "source": [
    "# we use input shape 224*224 in all our models\n",
    "# input shape of InceptionV3 is 299*299\n",
    "input_tensor = Input(shape=(224, 244, 3))"
   ]
  },
  {
   "cell_type": "code",
   "execution_count": 21,
   "metadata": {},
   "outputs": [],
   "source": [
    "inceptionv3_model = tf.keras.applications.InceptionV3(weights='imagenet',\n",
    "                                                      input_tensor=input_tensor,\n",
    "                                                      include_top=False)"
   ]
  },
  {
   "cell_type": "markdown",
   "metadata": {},
   "source": [
    "Adding new layers on top of InceptionV3:"
   ]
  },
  {
   "cell_type": "code",
   "execution_count": 22,
   "metadata": {},
   "outputs": [],
   "source": [
    "x = inceptionv3_model.output"
   ]
  },
  {
   "cell_type": "code",
   "execution_count": 23,
   "metadata": {},
   "outputs": [],
   "source": [
    "x = GlobalAveragePooling2D()(x)"
   ]
  },
  {
   "cell_type": "code",
   "execution_count": 24,
   "metadata": {},
   "outputs": [],
   "source": [
    "x = Dense(units=1024, activation='relu')(x)"
   ]
  },
  {
   "cell_type": "code",
   "execution_count": 25,
   "metadata": {},
   "outputs": [],
   "source": [
    "predictions = Dense(units=1, activation='sigmoid')(x)"
   ]
  },
  {
   "cell_type": "code",
   "execution_count": 26,
   "metadata": {},
   "outputs": [],
   "source": [
    "model = Model(inputs=inceptionv3_model.input, outputs=predictions)"
   ]
  },
  {
   "cell_type": "markdown",
   "metadata": {},
   "source": [
    "We want to train first only newly added layers, therefore we freeze InceptionV3 layers:"
   ]
  },
  {
   "cell_type": "code",
   "execution_count": 27,
   "metadata": {},
   "outputs": [],
   "source": [
    "for layer in inceptionv3_model.layers:\n",
    "    layer.trainable = False"
   ]
  },
  {
   "cell_type": "code",
   "execution_count": 28,
   "metadata": {},
   "outputs": [],
   "source": [
    "model.compile(optimizer='rmsprop', \n",
    "             loss='binary_crossentropy',\n",
    "             metrics=['AUC'])"
   ]
  },
  {
   "cell_type": "code",
   "execution_count": 35,
   "metadata": {
    "scrolled": true
   },
   "outputs": [
    {
     "data": {
      "text/plain": [
       "[PhysicalDevice(name='/physical_device:GPU:0', device_type='GPU')]"
      ]
     },
     "execution_count": 35,
     "metadata": {},
     "output_type": "execute_result"
    }
   ],
   "source": [
    "tf.config.experimental.list_physical_devices('GPU')"
   ]
  },
  {
   "cell_type": "code",
   "execution_count": 36,
   "metadata": {},
   "outputs": [
    {
     "data": {
      "text/plain": [
       "True"
      ]
     },
     "execution_count": 36,
     "metadata": {},
     "output_type": "execute_result"
    }
   ],
   "source": [
    "tf.test.is_built_with_cuda()"
   ]
  },
  {
   "cell_type": "code",
   "execution_count": 30,
   "metadata": {},
   "outputs": [
    {
     "name": "stdout",
     "output_type": "stream",
     "text": [
      "WARNING:tensorflow:sample_weight modes were coerced from\n",
      "  ...\n",
      "    to  \n",
      "  ['...']\n",
      "WARNING:tensorflow:sample_weight modes were coerced from\n",
      "  ...\n",
      "    to  \n",
      "  ['...']\n",
      "Train for 44 steps, validate for 11 steps\n",
      "Epoch 1/50\n",
      "44/44 [==============================] - 14s 329ms/step - loss: 0.4828 - AUC: 0.8147 - val_loss: 19.2768 - val_AUC: 0.5055\n",
      "Epoch 2/50\n",
      "44/44 [==============================] - 14s 326ms/step - loss: 0.4696 - AUC: 0.8265 - val_loss: 33.9234 - val_AUC: 0.4978\n",
      "Epoch 3/50\n",
      "44/44 [==============================] - 14s 327ms/step - loss: 0.4665 - AUC: 0.8305 - val_loss: 25.6921 - val_AUC: 0.4996\n",
      "Epoch 4/50\n",
      "44/44 [==============================] - 15s 332ms/step - loss: 0.4600 - AUC: 0.8335 - val_loss: 22.1668 - val_AUC: 0.5055\n",
      "Epoch 5/50\n",
      "44/44 [==============================] - 15s 334ms/step - loss: 0.4438 - AUC: 0.8450 - val_loss: 40.3874 - val_AUC: 0.5060\n",
      "Epoch 6/50\n",
      "44/44 [==============================] - 15s 331ms/step - loss: 0.4589 - AUC: 0.8332 - val_loss: 38.5330 - val_AUC: 0.4978\n",
      "Epoch 7/50\n",
      "44/44 [==============================] - 14s 330ms/step - loss: 0.4586 - AUC: 0.8383 - val_loss: 49.2302 - val_AUC: 0.4978\n",
      "Epoch 8/50\n",
      "44/44 [==============================] - 14s 328ms/step - loss: 0.4628 - AUC: 0.8321 - val_loss: 45.3385 - val_AUC: 0.4978\n",
      "Epoch 9/50\n",
      "44/44 [==============================] - 14s 326ms/step - loss: 0.4460 - AUC: 0.8462 - val_loss: 33.7221 - val_AUC: 0.5019\n",
      "Epoch 10/50\n",
      "44/44 [==============================] - 14s 326ms/step - loss: 0.4408 - AUC: 0.8478 - val_loss: 35.6411 - val_AUC: 0.4978\n",
      "Epoch 11/50\n",
      "44/44 [==============================] - 14s 328ms/step - loss: 0.4710 - AUC: 0.8291 - val_loss: 31.1544 - val_AUC: 0.4978\n",
      "Epoch 12/50\n",
      "44/44 [==============================] - 14s 327ms/step - loss: 0.4473 - AUC: 0.8448 - val_loss: 43.9023 - val_AUC: 0.5000\n",
      "Epoch 13/50\n",
      "44/44 [==============================] - 14s 326ms/step - loss: 0.4377 - AUC: 0.8476 - val_loss: 36.9942 - val_AUC: 0.4978\n",
      "Epoch 14/50\n",
      "44/44 [==============================] - 14s 327ms/step - loss: 0.4502 - AUC: 0.8462 - val_loss: 32.5677 - val_AUC: 0.5019\n",
      "Epoch 15/50\n",
      "44/44 [==============================] - 14s 326ms/step - loss: 0.4378 - AUC: 0.8475 - val_loss: 38.2981 - val_AUC: 0.5060\n",
      "Epoch 16/50\n",
      "44/44 [==============================] - 15s 340ms/step - loss: 0.4389 - AUC: 0.8527 - val_loss: 44.0409 - val_AUC: 0.4978\n",
      "Epoch 17/50\n",
      "44/44 [==============================] - 15s 350ms/step - loss: 0.4227 - AUC: 0.8684 - val_loss: 50.0061 - val_AUC: 0.4978\n",
      "Epoch 18/50\n",
      "44/44 [==============================] - 15s 345ms/step - loss: 0.4350 - AUC: 0.8582 - val_loss: 35.8064 - val_AUC: 0.4995\n",
      "Epoch 19/50\n",
      "44/44 [==============================] - 15s 348ms/step - loss: 0.4346 - AUC: 0.8538 - val_loss: 41.5709 - val_AUC: 0.4998\n",
      "Epoch 20/50\n",
      "44/44 [==============================] - 15s 348ms/step - loss: 0.4238 - AUC: 0.8624 - val_loss: 50.7252 - val_AUC: 0.4978\n",
      "Epoch 21/50\n",
      "44/44 [==============================] - 15s 332ms/step - loss: 0.4325 - AUC: 0.8562 - val_loss: 48.2790 - val_AUC: 0.4978\n",
      "Epoch 22/50\n",
      "44/44 [==============================] - 15s 331ms/step - loss: 0.4080 - AUC: 0.8742 - val_loss: 45.6933 - val_AUC: 0.5019\n",
      "Epoch 23/50\n",
      "44/44 [==============================] - 15s 330ms/step - loss: 0.4252 - AUC: 0.8606 - val_loss: 41.1541 - val_AUC: 0.4976\n",
      "Epoch 24/50\n",
      "44/44 [==============================] - 15s 332ms/step - loss: 0.4171 - AUC: 0.8697 - val_loss: 64.3035 - val_AUC: 0.5000\n",
      "Epoch 25/50\n",
      "44/44 [==============================] - 15s 336ms/step - loss: 0.4359 - AUC: 0.8565 - val_loss: 71.4549 - val_AUC: 0.5000\n",
      "Epoch 26/50\n",
      "44/44 [==============================] - 14s 328ms/step - loss: 0.4347 - AUC: 0.8524 - val_loss: 50.0296 - val_AUC: 0.5019\n",
      "Epoch 27/50\n",
      "44/44 [==============================] - 15s 347ms/step - loss: 0.4137 - AUC: 0.8711 - val_loss: 44.5680 - val_AUC: 0.5017\n",
      "Epoch 28/50\n",
      "44/44 [==============================] - 15s 338ms/step - loss: 0.4160 - AUC: 0.8652 - val_loss: 60.3010 - val_AUC: 0.4978\n",
      "Epoch 29/50\n",
      "44/44 [==============================] - 15s 332ms/step - loss: 0.4260 - AUC: 0.8666 - val_loss: 66.7438 - val_AUC: 0.4978\n",
      "Epoch 30/50\n",
      "44/44 [==============================] - 15s 333ms/step - loss: 0.4337 - AUC: 0.8577 - val_loss: 46.8685 - val_AUC: 0.4978\n",
      "Epoch 31/50\n",
      "44/44 [==============================] - 15s 333ms/step - loss: 0.4114 - AUC: 0.8723 - val_loss: 50.6860 - val_AUC: 0.4978\n",
      "Epoch 32/50\n",
      "44/44 [==============================] - 14s 330ms/step - loss: 0.3973 - AUC: 0.8812 - val_loss: 51.8944 - val_AUC: 0.4978\n",
      "Epoch 33/50\n",
      "44/44 [==============================] - 15s 331ms/step - loss: 0.4205 - AUC: 0.8662 - val_loss: 60.7266 - val_AUC: 0.5000\n",
      "Epoch 34/50\n",
      "44/44 [==============================] - 15s 345ms/step - loss: 0.4124 - AUC: 0.8700 - val_loss: 32.0968 - val_AUC: 0.5081\n",
      "Epoch 35/50\n",
      "44/44 [==============================] - 14s 329ms/step - loss: 0.4089 - AUC: 0.8720 - val_loss: 50.9613 - val_AUC: 0.5000\n",
      "Epoch 36/50\n",
      "44/44 [==============================] - 14s 328ms/step - loss: 0.4136 - AUC: 0.8712 - val_loss: 44.6530 - val_AUC: 0.5060\n",
      "Epoch 37/50\n",
      "44/44 [==============================] - 14s 328ms/step - loss: 0.4326 - AUC: 0.8658 - val_loss: 60.1289 - val_AUC: 0.4978\n",
      "Epoch 38/50\n",
      "44/44 [==============================] - 15s 331ms/step - loss: 0.4031 - AUC: 0.8776 - val_loss: 33.8619 - val_AUC: 0.5017\n",
      "Epoch 39/50\n",
      "44/44 [==============================] - 15s 337ms/step - loss: 0.4043 - AUC: 0.8727 - val_loss: 43.9761 - val_AUC: 0.5080\n",
      "Epoch 40/50\n",
      "44/44 [==============================] - 15s 336ms/step - loss: 0.3871 - AUC: 0.8906 - val_loss: 46.3865 - val_AUC: 0.5079\n",
      "Epoch 41/50\n",
      "44/44 [==============================] - 14s 329ms/step - loss: 0.4121 - AUC: 0.8731 - val_loss: 45.0087 - val_AUC: 0.4978\n",
      "Epoch 42/50\n",
      "44/44 [==============================] - 15s 330ms/step - loss: 0.3757 - AUC: 0.8948 - val_loss: 62.6868 - val_AUC: 0.5000\n",
      "Epoch 43/50\n",
      "44/44 [==============================] - 15s 336ms/step - loss: 0.4092 - AUC: 0.8741 - val_loss: 43.6149 - val_AUC: 0.4957\n",
      "Epoch 44/50\n",
      "44/44 [==============================] - 15s 343ms/step - loss: 0.3712 - AUC: 0.8967 - val_loss: 54.4412 - val_AUC: 0.4978\n",
      "Epoch 45/50\n",
      "44/44 [==============================] - 15s 348ms/step - loss: 0.3805 - AUC: 0.8924 - val_loss: 46.4380 - val_AUC: 0.4997\n",
      "Epoch 46/50\n",
      "44/44 [==============================] - 15s 345ms/step - loss: 0.3839 - AUC: 0.8909 - val_loss: 48.1794 - val_AUC: 0.4957\n",
      "Epoch 47/50\n",
      "44/44 [==============================] - 15s 341ms/step - loss: 0.3676 - AUC: 0.8992 - val_loss: 55.4799 - val_AUC: 0.4997\n",
      "Epoch 48/50\n",
      "44/44 [==============================] - 15s 334ms/step - loss: 0.3745 - AUC: 0.8960 - val_loss: 56.0605 - val_AUC: 0.4978\n",
      "Epoch 49/50\n",
      "44/44 [==============================] - 15s 336ms/step - loss: 0.3864 - AUC: 0.8892 - val_loss: 45.2307 - val_AUC: 0.4978\n",
      "Epoch 50/50\n",
      "44/44 [==============================] - 15s 338ms/step - loss: 0.3705 - AUC: 0.8981 - val_loss: 66.6136 - val_AUC: 0.4978\n"
     ]
    }
   ],
   "source": [
    "history = model.fit(\n",
    "    train_generator,\n",
    "    validation_data = val_generator,\n",
    "    steps_per_epoch = train.shape[0]//32,\n",
    "    epochs = 50,\n",
    "    validation_steps = val.shape[0]//32\n",
    ")"
   ]
  },
  {
   "cell_type": "markdown",
   "metadata": {},
   "source": [
    "Now we are going to train top 2 inception blocks, we freeze 249 first layers, and unfreeze the rest:"
   ]
  },
  {
   "cell_type": "code",
   "execution_count": 31,
   "metadata": {},
   "outputs": [],
   "source": [
    "for layer in model.layers[:249]:\n",
    "    layer.trainable = False\n",
    "for layer in model.layers[249:]:\n",
    "    layer.trainable = True"
   ]
  },
  {
   "cell_type": "code",
   "execution_count": 32,
   "metadata": {},
   "outputs": [],
   "source": [
    "from tensorflow.keras.optimizers import Adam"
   ]
  },
  {
   "cell_type": "code",
   "execution_count": 33,
   "metadata": {},
   "outputs": [],
   "source": [
    "model.compile(optimizer=Adam(lr=0.0001),\n",
    "             loss='binary_crossentropy',\n",
    "             metrics=['AUC'])"
   ]
  },
  {
   "cell_type": "code",
   "execution_count": 34,
   "metadata": {},
   "outputs": [
    {
     "name": "stdout",
     "output_type": "stream",
     "text": [
      "WARNING:tensorflow:sample_weight modes were coerced from\n",
      "  ...\n",
      "    to  \n",
      "  ['...']\n",
      "WARNING:tensorflow:sample_weight modes were coerced from\n",
      "  ...\n",
      "    to  \n",
      "  ['...']\n",
      "Train for 44 steps, validate for 11 steps\n",
      "Epoch 1/50\n",
      "44/44 [==============================] - 21s 467ms/step - loss: 0.4199 - AUC: 0.8753 - val_loss: 128.6660 - val_AUC: 0.5000\n",
      "Epoch 2/50\n",
      "44/44 [==============================] - 14s 330ms/step - loss: 0.3426 - AUC: 0.9146 - val_loss: 105.3373 - val_AUC: 0.5041\n",
      "Epoch 3/50\n",
      "44/44 [==============================] - 15s 332ms/step - loss: 0.3334 - AUC: 0.9216 - val_loss: 103.9606 - val_AUC: 0.5000\n",
      "Epoch 4/50\n",
      "44/44 [==============================] - 15s 335ms/step - loss: 0.2884 - AUC: 0.9425 - val_loss: 94.6469 - val_AUC: 0.5019\n",
      "Epoch 5/50\n",
      "44/44 [==============================] - 15s 335ms/step - loss: 0.2867 - AUC: 0.9427 - val_loss: 189.4910 - val_AUC: 0.5000\n",
      "Epoch 6/50\n",
      "44/44 [==============================] - 15s 334ms/step - loss: 0.2433 - AUC: 0.9607 - val_loss: 256.2071 - val_AUC: 0.5000\n",
      "Epoch 7/50\n",
      "44/44 [==============================] - 15s 335ms/step - loss: 0.2052 - AUC: 0.9706 - val_loss: 237.6977 - val_AUC: 0.5000\n",
      "Epoch 8/50\n",
      "44/44 [==============================] - 15s 335ms/step - loss: 0.1939 - AUC: 0.9737 - val_loss: 158.3594 - val_AUC: 0.5000\n",
      "Epoch 9/50\n",
      "44/44 [==============================] - 15s 335ms/step - loss: 0.1977 - AUC: 0.9723 - val_loss: 158.3369 - val_AUC: 0.5000\n",
      "Epoch 10/50\n",
      "44/44 [==============================] - 15s 332ms/step - loss: 0.1738 - AUC: 0.9787 - val_loss: 185.5056 - val_AUC: 0.5000\n",
      "Epoch 11/50\n",
      "44/44 [==============================] - 15s 337ms/step - loss: 0.1713 - AUC: 0.9795 - val_loss: 241.4737 - val_AUC: 0.5000\n",
      "Epoch 12/50\n",
      "44/44 [==============================] - 15s 333ms/step - loss: 0.1673 - AUC: 0.9803 - val_loss: 215.4146 - val_AUC: 0.5000\n",
      "Epoch 13/50\n",
      "44/44 [==============================] - 15s 334ms/step - loss: 0.1510 - AUC: 0.9841 - val_loss: 200.7788 - val_AUC: 0.5000\n",
      "Epoch 14/50\n",
      "44/44 [==============================] - 15s 338ms/step - loss: 0.1205 - AUC: 0.9895 - val_loss: 175.1554 - val_AUC: 0.5000\n",
      "Epoch 15/50\n",
      "44/44 [==============================] - 15s 334ms/step - loss: 0.1236 - AUC: 0.9893 - val_loss: 145.5780 - val_AUC: 0.4978\n",
      "Epoch 16/50\n",
      "44/44 [==============================] - 15s 345ms/step - loss: 0.1168 - AUC: 0.9906 - val_loss: 137.5952 - val_AUC: 0.4978\n",
      "Epoch 17/50\n",
      "44/44 [==============================] - 15s 341ms/step - loss: 0.1156 - AUC: 0.9905 - val_loss: 186.0200 - val_AUC: 0.5000\n",
      "Epoch 18/50\n",
      "44/44 [==============================] - 15s 344ms/step - loss: 0.1064 - AUC: 0.9919 - val_loss: 159.9993 - val_AUC: 0.4978\n",
      "Epoch 19/50\n",
      "44/44 [==============================] - 16s 353ms/step - loss: 0.1004 - AUC: 0.9921 - val_loss: 118.2956 - val_AUC: 0.4978\n",
      "Epoch 20/50\n",
      "44/44 [==============================] - 15s 335ms/step - loss: 0.0839 - AUC: 0.9952 - val_loss: 136.1278 - val_AUC: 0.5000\n",
      "Epoch 21/50\n",
      "44/44 [==============================] - 15s 333ms/step - loss: 0.0967 - AUC: 0.9912 - val_loss: 125.0161 - val_AUC: 0.5019\n",
      "Epoch 22/50\n",
      "44/44 [==============================] - 15s 333ms/step - loss: 0.0713 - AUC: 0.9965 - val_loss: 159.8134 - val_AUC: 0.5019\n",
      "Epoch 23/50\n",
      "44/44 [==============================] - 15s 334ms/step - loss: 0.0763 - AUC: 0.9940 - val_loss: 189.7334 - val_AUC: 0.5000\n",
      "Epoch 24/50\n",
      "44/44 [==============================] - 15s 333ms/step - loss: 0.0699 - AUC: 0.9966 - val_loss: 198.7649 - val_AUC: 0.5000\n",
      "Epoch 25/50\n",
      "44/44 [==============================] - 15s 336ms/step - loss: 0.0873 - AUC: 0.9925 - val_loss: 188.2033 - val_AUC: 0.5000\n",
      "Epoch 26/50\n",
      "44/44 [==============================] - 15s 333ms/step - loss: 0.0564 - AUC: 0.9979 - val_loss: 171.2420 - val_AUC: 0.4978\n",
      "Epoch 27/50\n",
      "27/44 [=================>............] - ETA: 5s - loss: 0.0623 - AUC: 0.9973"
     ]
    },
    {
     "ename": "KeyboardInterrupt",
     "evalue": "",
     "output_type": "error",
     "traceback": [
      "\u001b[1;31m---------------------------------------------------------------------------\u001b[0m",
      "\u001b[1;31mKeyboardInterrupt\u001b[0m                         Traceback (most recent call last)",
      "\u001b[1;32m<ipython-input-34-c1e4a8344063>\u001b[0m in \u001b[0;36m<module>\u001b[1;34m\u001b[0m\n\u001b[0;32m      4\u001b[0m     \u001b[0msteps_per_epoch\u001b[0m \u001b[1;33m=\u001b[0m \u001b[0mtrain\u001b[0m\u001b[1;33m.\u001b[0m\u001b[0mshape\u001b[0m\u001b[1;33m[\u001b[0m\u001b[1;36m0\u001b[0m\u001b[1;33m]\u001b[0m\u001b[1;33m//\u001b[0m\u001b[1;36m32\u001b[0m\u001b[1;33m,\u001b[0m\u001b[1;33m\u001b[0m\u001b[1;33m\u001b[0m\u001b[0m\n\u001b[0;32m      5\u001b[0m     \u001b[0mepochs\u001b[0m \u001b[1;33m=\u001b[0m \u001b[1;36m50\u001b[0m\u001b[1;33m,\u001b[0m\u001b[1;33m\u001b[0m\u001b[1;33m\u001b[0m\u001b[0m\n\u001b[1;32m----> 6\u001b[1;33m     \u001b[0mvalidation_steps\u001b[0m \u001b[1;33m=\u001b[0m \u001b[0mval\u001b[0m\u001b[1;33m.\u001b[0m\u001b[0mshape\u001b[0m\u001b[1;33m[\u001b[0m\u001b[1;36m0\u001b[0m\u001b[1;33m]\u001b[0m\u001b[1;33m//\u001b[0m\u001b[1;36m32\u001b[0m\u001b[1;33m\u001b[0m\u001b[1;33m\u001b[0m\u001b[0m\n\u001b[0m\u001b[0;32m      7\u001b[0m )\n",
      "\u001b[1;32m~\\miniconda3\\envs\\ml_project_melanoma\\lib\\site-packages\\tensorflow_core\\python\\keras\\engine\\training.py\u001b[0m in \u001b[0;36mfit\u001b[1;34m(self, x, y, batch_size, epochs, verbose, callbacks, validation_split, validation_data, shuffle, class_weight, sample_weight, initial_epoch, steps_per_epoch, validation_steps, validation_freq, max_queue_size, workers, use_multiprocessing, **kwargs)\u001b[0m\n\u001b[0;32m    817\u001b[0m         \u001b[0mmax_queue_size\u001b[0m\u001b[1;33m=\u001b[0m\u001b[0mmax_queue_size\u001b[0m\u001b[1;33m,\u001b[0m\u001b[1;33m\u001b[0m\u001b[1;33m\u001b[0m\u001b[0m\n\u001b[0;32m    818\u001b[0m         \u001b[0mworkers\u001b[0m\u001b[1;33m=\u001b[0m\u001b[0mworkers\u001b[0m\u001b[1;33m,\u001b[0m\u001b[1;33m\u001b[0m\u001b[1;33m\u001b[0m\u001b[0m\n\u001b[1;32m--> 819\u001b[1;33m         use_multiprocessing=use_multiprocessing)\n\u001b[0m\u001b[0;32m    820\u001b[0m \u001b[1;33m\u001b[0m\u001b[0m\n\u001b[0;32m    821\u001b[0m   def evaluate(self,\n",
      "\u001b[1;32m~\\miniconda3\\envs\\ml_project_melanoma\\lib\\site-packages\\tensorflow_core\\python\\keras\\engine\\training_v2.py\u001b[0m in \u001b[0;36mfit\u001b[1;34m(self, model, x, y, batch_size, epochs, verbose, callbacks, validation_split, validation_data, shuffle, class_weight, sample_weight, initial_epoch, steps_per_epoch, validation_steps, validation_freq, max_queue_size, workers, use_multiprocessing, **kwargs)\u001b[0m\n\u001b[0;32m    340\u001b[0m                 \u001b[0mmode\u001b[0m\u001b[1;33m=\u001b[0m\u001b[0mModeKeys\u001b[0m\u001b[1;33m.\u001b[0m\u001b[0mTRAIN\u001b[0m\u001b[1;33m,\u001b[0m\u001b[1;33m\u001b[0m\u001b[1;33m\u001b[0m\u001b[0m\n\u001b[0;32m    341\u001b[0m                 \u001b[0mtraining_context\u001b[0m\u001b[1;33m=\u001b[0m\u001b[0mtraining_context\u001b[0m\u001b[1;33m,\u001b[0m\u001b[1;33m\u001b[0m\u001b[1;33m\u001b[0m\u001b[0m\n\u001b[1;32m--> 342\u001b[1;33m                 total_epochs=epochs)\n\u001b[0m\u001b[0;32m    343\u001b[0m             \u001b[0mcbks\u001b[0m\u001b[1;33m.\u001b[0m\u001b[0mmake_logs\u001b[0m\u001b[1;33m(\u001b[0m\u001b[0mmodel\u001b[0m\u001b[1;33m,\u001b[0m \u001b[0mepoch_logs\u001b[0m\u001b[1;33m,\u001b[0m \u001b[0mtraining_result\u001b[0m\u001b[1;33m,\u001b[0m \u001b[0mModeKeys\u001b[0m\u001b[1;33m.\u001b[0m\u001b[0mTRAIN\u001b[0m\u001b[1;33m)\u001b[0m\u001b[1;33m\u001b[0m\u001b[1;33m\u001b[0m\u001b[0m\n\u001b[0;32m    344\u001b[0m \u001b[1;33m\u001b[0m\u001b[0m\n",
      "\u001b[1;32m~\\miniconda3\\envs\\ml_project_melanoma\\lib\\site-packages\\tensorflow_core\\python\\keras\\engine\\training_v2.py\u001b[0m in \u001b[0;36mrun_one_epoch\u001b[1;34m(model, iterator, execution_function, dataset_size, batch_size, strategy, steps_per_epoch, num_samples, mode, training_context, total_epochs)\u001b[0m\n\u001b[0;32m    126\u001b[0m         step=step, mode=mode, size=current_batch_size) as batch_logs:\n\u001b[0;32m    127\u001b[0m       \u001b[1;32mtry\u001b[0m\u001b[1;33m:\u001b[0m\u001b[1;33m\u001b[0m\u001b[1;33m\u001b[0m\u001b[0m\n\u001b[1;32m--> 128\u001b[1;33m         \u001b[0mbatch_outs\u001b[0m \u001b[1;33m=\u001b[0m \u001b[0mexecution_function\u001b[0m\u001b[1;33m(\u001b[0m\u001b[0miterator\u001b[0m\u001b[1;33m)\u001b[0m\u001b[1;33m\u001b[0m\u001b[1;33m\u001b[0m\u001b[0m\n\u001b[0m\u001b[0;32m    129\u001b[0m       \u001b[1;32mexcept\u001b[0m \u001b[1;33m(\u001b[0m\u001b[0mStopIteration\u001b[0m\u001b[1;33m,\u001b[0m \u001b[0merrors\u001b[0m\u001b[1;33m.\u001b[0m\u001b[0mOutOfRangeError\u001b[0m\u001b[1;33m)\u001b[0m\u001b[1;33m:\u001b[0m\u001b[1;33m\u001b[0m\u001b[1;33m\u001b[0m\u001b[0m\n\u001b[0;32m    130\u001b[0m         \u001b[1;31m# TODO(kaftan): File bug about tf function and errors.OutOfRangeError?\u001b[0m\u001b[1;33m\u001b[0m\u001b[1;33m\u001b[0m\u001b[1;33m\u001b[0m\u001b[0m\n",
      "\u001b[1;32m~\\miniconda3\\envs\\ml_project_melanoma\\lib\\site-packages\\tensorflow_core\\python\\keras\\engine\\training_v2_utils.py\u001b[0m in \u001b[0;36mexecution_function\u001b[1;34m(input_fn)\u001b[0m\n\u001b[0;32m     96\u001b[0m     \u001b[1;31m# `numpy` translates Tensors to values in Eager mode.\u001b[0m\u001b[1;33m\u001b[0m\u001b[1;33m\u001b[0m\u001b[1;33m\u001b[0m\u001b[0m\n\u001b[0;32m     97\u001b[0m     return nest.map_structure(_non_none_constant_value,\n\u001b[1;32m---> 98\u001b[1;33m                               distributed_function(input_fn))\n\u001b[0m\u001b[0;32m     99\u001b[0m \u001b[1;33m\u001b[0m\u001b[0m\n\u001b[0;32m    100\u001b[0m   \u001b[1;32mreturn\u001b[0m \u001b[0mexecution_function\u001b[0m\u001b[1;33m\u001b[0m\u001b[1;33m\u001b[0m\u001b[0m\n",
      "\u001b[1;32m~\\miniconda3\\envs\\ml_project_melanoma\\lib\\site-packages\\tensorflow_core\\python\\eager\\def_function.py\u001b[0m in \u001b[0;36m__call__\u001b[1;34m(self, *args, **kwds)\u001b[0m\n\u001b[0;32m    566\u001b[0m         \u001b[0mxla_context\u001b[0m\u001b[1;33m.\u001b[0m\u001b[0mExit\u001b[0m\u001b[1;33m(\u001b[0m\u001b[1;33m)\u001b[0m\u001b[1;33m\u001b[0m\u001b[1;33m\u001b[0m\u001b[0m\n\u001b[0;32m    567\u001b[0m     \u001b[1;32melse\u001b[0m\u001b[1;33m:\u001b[0m\u001b[1;33m\u001b[0m\u001b[1;33m\u001b[0m\u001b[0m\n\u001b[1;32m--> 568\u001b[1;33m       \u001b[0mresult\u001b[0m \u001b[1;33m=\u001b[0m \u001b[0mself\u001b[0m\u001b[1;33m.\u001b[0m\u001b[0m_call\u001b[0m\u001b[1;33m(\u001b[0m\u001b[1;33m*\u001b[0m\u001b[0margs\u001b[0m\u001b[1;33m,\u001b[0m \u001b[1;33m**\u001b[0m\u001b[0mkwds\u001b[0m\u001b[1;33m)\u001b[0m\u001b[1;33m\u001b[0m\u001b[1;33m\u001b[0m\u001b[0m\n\u001b[0m\u001b[0;32m    569\u001b[0m \u001b[1;33m\u001b[0m\u001b[0m\n\u001b[0;32m    570\u001b[0m     \u001b[1;32mif\u001b[0m \u001b[0mtracing_count\u001b[0m \u001b[1;33m==\u001b[0m \u001b[0mself\u001b[0m\u001b[1;33m.\u001b[0m\u001b[0m_get_tracing_count\u001b[0m\u001b[1;33m(\u001b[0m\u001b[1;33m)\u001b[0m\u001b[1;33m:\u001b[0m\u001b[1;33m\u001b[0m\u001b[1;33m\u001b[0m\u001b[0m\n",
      "\u001b[1;32m~\\miniconda3\\envs\\ml_project_melanoma\\lib\\site-packages\\tensorflow_core\\python\\eager\\def_function.py\u001b[0m in \u001b[0;36m_call\u001b[1;34m(self, *args, **kwds)\u001b[0m\n\u001b[0;32m    597\u001b[0m       \u001b[1;31m# In this case we have created variables on the first call, so we run the\u001b[0m\u001b[1;33m\u001b[0m\u001b[1;33m\u001b[0m\u001b[1;33m\u001b[0m\u001b[0m\n\u001b[0;32m    598\u001b[0m       \u001b[1;31m# defunned version which is guaranteed to never create variables.\u001b[0m\u001b[1;33m\u001b[0m\u001b[1;33m\u001b[0m\u001b[1;33m\u001b[0m\u001b[0m\n\u001b[1;32m--> 599\u001b[1;33m       \u001b[1;32mreturn\u001b[0m \u001b[0mself\u001b[0m\u001b[1;33m.\u001b[0m\u001b[0m_stateless_fn\u001b[0m\u001b[1;33m(\u001b[0m\u001b[1;33m*\u001b[0m\u001b[0margs\u001b[0m\u001b[1;33m,\u001b[0m \u001b[1;33m**\u001b[0m\u001b[0mkwds\u001b[0m\u001b[1;33m)\u001b[0m  \u001b[1;31m# pylint: disable=not-callable\u001b[0m\u001b[1;33m\u001b[0m\u001b[1;33m\u001b[0m\u001b[0m\n\u001b[0m\u001b[0;32m    600\u001b[0m     \u001b[1;32melif\u001b[0m \u001b[0mself\u001b[0m\u001b[1;33m.\u001b[0m\u001b[0m_stateful_fn\u001b[0m \u001b[1;32mis\u001b[0m \u001b[1;32mnot\u001b[0m \u001b[1;32mNone\u001b[0m\u001b[1;33m:\u001b[0m\u001b[1;33m\u001b[0m\u001b[1;33m\u001b[0m\u001b[0m\n\u001b[0;32m    601\u001b[0m       \u001b[1;31m# Release the lock early so that multiple threads can perform the call\u001b[0m\u001b[1;33m\u001b[0m\u001b[1;33m\u001b[0m\u001b[1;33m\u001b[0m\u001b[0m\n",
      "\u001b[1;32m~\\miniconda3\\envs\\ml_project_melanoma\\lib\\site-packages\\tensorflow_core\\python\\eager\\function.py\u001b[0m in \u001b[0;36m__call__\u001b[1;34m(self, *args, **kwargs)\u001b[0m\n\u001b[0;32m   2361\u001b[0m     \u001b[1;32mwith\u001b[0m \u001b[0mself\u001b[0m\u001b[1;33m.\u001b[0m\u001b[0m_lock\u001b[0m\u001b[1;33m:\u001b[0m\u001b[1;33m\u001b[0m\u001b[1;33m\u001b[0m\u001b[0m\n\u001b[0;32m   2362\u001b[0m       \u001b[0mgraph_function\u001b[0m\u001b[1;33m,\u001b[0m \u001b[0margs\u001b[0m\u001b[1;33m,\u001b[0m \u001b[0mkwargs\u001b[0m \u001b[1;33m=\u001b[0m \u001b[0mself\u001b[0m\u001b[1;33m.\u001b[0m\u001b[0m_maybe_define_function\u001b[0m\u001b[1;33m(\u001b[0m\u001b[0margs\u001b[0m\u001b[1;33m,\u001b[0m \u001b[0mkwargs\u001b[0m\u001b[1;33m)\u001b[0m\u001b[1;33m\u001b[0m\u001b[1;33m\u001b[0m\u001b[0m\n\u001b[1;32m-> 2363\u001b[1;33m     \u001b[1;32mreturn\u001b[0m \u001b[0mgraph_function\u001b[0m\u001b[1;33m.\u001b[0m\u001b[0m_filtered_call\u001b[0m\u001b[1;33m(\u001b[0m\u001b[0margs\u001b[0m\u001b[1;33m,\u001b[0m \u001b[0mkwargs\u001b[0m\u001b[1;33m)\u001b[0m  \u001b[1;31m# pylint: disable=protected-access\u001b[0m\u001b[1;33m\u001b[0m\u001b[1;33m\u001b[0m\u001b[0m\n\u001b[0m\u001b[0;32m   2364\u001b[0m \u001b[1;33m\u001b[0m\u001b[0m\n\u001b[0;32m   2365\u001b[0m   \u001b[1;33m@\u001b[0m\u001b[0mproperty\u001b[0m\u001b[1;33m\u001b[0m\u001b[1;33m\u001b[0m\u001b[0m\n",
      "\u001b[1;32m~\\miniconda3\\envs\\ml_project_melanoma\\lib\\site-packages\\tensorflow_core\\python\\eager\\function.py\u001b[0m in \u001b[0;36m_filtered_call\u001b[1;34m(self, args, kwargs)\u001b[0m\n\u001b[0;32m   1609\u001b[0m          if isinstance(t, (ops.Tensor,\n\u001b[0;32m   1610\u001b[0m                            resource_variable_ops.BaseResourceVariable))),\n\u001b[1;32m-> 1611\u001b[1;33m         self.captured_inputs)\n\u001b[0m\u001b[0;32m   1612\u001b[0m \u001b[1;33m\u001b[0m\u001b[0m\n\u001b[0;32m   1613\u001b[0m   \u001b[1;32mdef\u001b[0m \u001b[0m_call_flat\u001b[0m\u001b[1;33m(\u001b[0m\u001b[0mself\u001b[0m\u001b[1;33m,\u001b[0m \u001b[0margs\u001b[0m\u001b[1;33m,\u001b[0m \u001b[0mcaptured_inputs\u001b[0m\u001b[1;33m,\u001b[0m \u001b[0mcancellation_manager\u001b[0m\u001b[1;33m=\u001b[0m\u001b[1;32mNone\u001b[0m\u001b[1;33m)\u001b[0m\u001b[1;33m:\u001b[0m\u001b[1;33m\u001b[0m\u001b[1;33m\u001b[0m\u001b[0m\n",
      "\u001b[1;32m~\\miniconda3\\envs\\ml_project_melanoma\\lib\\site-packages\\tensorflow_core\\python\\eager\\function.py\u001b[0m in \u001b[0;36m_call_flat\u001b[1;34m(self, args, captured_inputs, cancellation_manager)\u001b[0m\n\u001b[0;32m   1690\u001b[0m       \u001b[1;31m# No tape is watching; skip to running the function.\u001b[0m\u001b[1;33m\u001b[0m\u001b[1;33m\u001b[0m\u001b[1;33m\u001b[0m\u001b[0m\n\u001b[0;32m   1691\u001b[0m       return self._build_call_outputs(self._inference_function.call(\n\u001b[1;32m-> 1692\u001b[1;33m           ctx, args, cancellation_manager=cancellation_manager))\n\u001b[0m\u001b[0;32m   1693\u001b[0m     forward_backward = self._select_forward_and_backward_functions(\n\u001b[0;32m   1694\u001b[0m         \u001b[0margs\u001b[0m\u001b[1;33m,\u001b[0m\u001b[1;33m\u001b[0m\u001b[1;33m\u001b[0m\u001b[0m\n",
      "\u001b[1;32m~\\miniconda3\\envs\\ml_project_melanoma\\lib\\site-packages\\tensorflow_core\\python\\eager\\function.py\u001b[0m in \u001b[0;36mcall\u001b[1;34m(self, ctx, args, cancellation_manager)\u001b[0m\n\u001b[0;32m    543\u001b[0m               \u001b[0minputs\u001b[0m\u001b[1;33m=\u001b[0m\u001b[0margs\u001b[0m\u001b[1;33m,\u001b[0m\u001b[1;33m\u001b[0m\u001b[1;33m\u001b[0m\u001b[0m\n\u001b[0;32m    544\u001b[0m               \u001b[0mattrs\u001b[0m\u001b[1;33m=\u001b[0m\u001b[1;33m(\u001b[0m\u001b[1;34m\"executor_type\"\u001b[0m\u001b[1;33m,\u001b[0m \u001b[0mexecutor_type\u001b[0m\u001b[1;33m,\u001b[0m \u001b[1;34m\"config_proto\"\u001b[0m\u001b[1;33m,\u001b[0m \u001b[0mconfig\u001b[0m\u001b[1;33m)\u001b[0m\u001b[1;33m,\u001b[0m\u001b[1;33m\u001b[0m\u001b[1;33m\u001b[0m\u001b[0m\n\u001b[1;32m--> 545\u001b[1;33m               ctx=ctx)\n\u001b[0m\u001b[0;32m    546\u001b[0m         \u001b[1;32melse\u001b[0m\u001b[1;33m:\u001b[0m\u001b[1;33m\u001b[0m\u001b[1;33m\u001b[0m\u001b[0m\n\u001b[0;32m    547\u001b[0m           outputs = execute.execute_with_cancellation(\n",
      "\u001b[1;32m~\\miniconda3\\envs\\ml_project_melanoma\\lib\\site-packages\\tensorflow_core\\python\\eager\\execute.py\u001b[0m in \u001b[0;36mquick_execute\u001b[1;34m(op_name, num_outputs, inputs, attrs, ctx, name)\u001b[0m\n\u001b[0;32m     59\u001b[0m     tensors = pywrap_tensorflow.TFE_Py_Execute(ctx._handle, device_name,\n\u001b[0;32m     60\u001b[0m                                                \u001b[0mop_name\u001b[0m\u001b[1;33m,\u001b[0m \u001b[0minputs\u001b[0m\u001b[1;33m,\u001b[0m \u001b[0mattrs\u001b[0m\u001b[1;33m,\u001b[0m\u001b[1;33m\u001b[0m\u001b[1;33m\u001b[0m\u001b[0m\n\u001b[1;32m---> 61\u001b[1;33m                                                num_outputs)\n\u001b[0m\u001b[0;32m     62\u001b[0m   \u001b[1;32mexcept\u001b[0m \u001b[0mcore\u001b[0m\u001b[1;33m.\u001b[0m\u001b[0m_NotOkStatusException\u001b[0m \u001b[1;32mas\u001b[0m \u001b[0me\u001b[0m\u001b[1;33m:\u001b[0m\u001b[1;33m\u001b[0m\u001b[1;33m\u001b[0m\u001b[0m\n\u001b[0;32m     63\u001b[0m     \u001b[1;32mif\u001b[0m \u001b[0mname\u001b[0m \u001b[1;32mis\u001b[0m \u001b[1;32mnot\u001b[0m \u001b[1;32mNone\u001b[0m\u001b[1;33m:\u001b[0m\u001b[1;33m\u001b[0m\u001b[1;33m\u001b[0m\u001b[0m\n",
      "\u001b[1;31mKeyboardInterrupt\u001b[0m: "
     ]
    }
   ],
   "source": [
    "history = model.fit(\n",
    "    train_generator,\n",
    "    validation_data = val_generator,\n",
    "    steps_per_epoch = train.shape[0]//32,\n",
    "    epochs = 50,\n",
    "    validation_steps = val.shape[0]//32\n",
    ")"
   ]
  },
  {
   "cell_type": "code",
   "execution_count": null,
   "metadata": {},
   "outputs": [],
   "source": []
  }
 ],
 "metadata": {
  "kernelspec": {
   "display_name": "Python 3",
   "language": "python",
   "name": "python3"
  },
  "language_info": {
   "codemirror_mode": {
    "name": "ipython",
    "version": 3
   },
   "file_extension": ".py",
   "mimetype": "text/x-python",
   "name": "python",
   "nbconvert_exporter": "python",
   "pygments_lexer": "ipython3",
   "version": "3.7.9"
  }
 },
 "nbformat": 4,
 "nbformat_minor": 4
}
